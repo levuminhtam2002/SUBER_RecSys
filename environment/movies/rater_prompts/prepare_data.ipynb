{
 "cells": [
  {
   "cell_type": "code",
   "execution_count": 1,
   "metadata": {},
   "outputs": [
    {
     "name": "stderr",
     "output_type": "stream",
     "text": [
      "/home/gio/anaconda3/envs/MPR/lib/python3.9/site-packages/tqdm/auto.py:21: TqdmWarning: IProgress not found. Please update jupyter and ipywidgets. See https://ipywidgets.readthedocs.io/en/stable/user_install.html\n",
      "  from .autonotebook import tqdm as notebook_tqdm\n"
     ]
    }
   ],
   "source": [
    "import requests\n",
    "import numpy as np\n",
    "import pandas as pd\n",
    "import json\n",
    "from dotenv import load_dotenv\n",
    "load_dotenv() \n",
    "import os\n",
    "from sentence_transformers import SentenceTransformer\n",
    "\n",
    "model = SentenceTransformer(\"sentence-transformers/sentence-t5-base\")\n",
    "\n",
    "def get_director(id):\n",
    "    headers = {\n",
    "        \"accept\": \"application/json\",\n",
    "        \"Authorization\": \"Bearer \" + os.getenv(\"TMDB_API_KEY\"),\n",
    "    }\n",
    "    url_credits = f\"https://api.themoviedb.org/3/movie/{id}/credits?language=en-US\"\n",
    "    response = requests.get(url_credits, headers=headers)\n",
    "    data_credits = response.json()\n",
    "\n",
    "    for d in data_credits[\"crew\"]:\n",
    "        if d[\"job\"] == \"Director\":\n",
    "            return d[\"name\"]\n",
    "        \n",
    "def get_film(id):\n",
    "    url_movie = f\"https://api.themoviedb.org/3/movie/{id}?language=en-US\"\n",
    "    headers = {\n",
    "        \"accept\": \"application/json\",\n",
    "        \"Authorization\": (\n",
    "            (\"Bearer \"+os.getenv(\"TMDB_API_KEY\"))\n",
    "        ),\n",
    "    }\n",
    "    response = requests.get(url_movie, headers=headers)\n",
    "    data = response.json()\n",
    "    movies_keys_to_remove = [\n",
    "        \"backdrop_path\",\n",
    "        \"belongs_to_collection\",\n",
    "        \"homepage\",\n",
    "        \"poster_path\",\n",
    "        \"production_companies\",\n",
    "        \"production_countries\",\n",
    "        \"spoken_languages\",\n",
    "        \"status\",\n",
    "        \"tagline\",\n",
    "        \"video\",\n",
    "    ]\n",
    "    for k in movies_keys_to_remove:\n",
    "        if k in data:\n",
    "            data.pop(k)\n",
    "\n",
    "    url_credits = f\"https://api.themoviedb.org/3/movie/{id}/credits?language=en-US\"\n",
    "    response = requests.get(url_credits, headers=headers)\n",
    "    data_credits = response.json()\n",
    "    if \"cast\" not in data_credits:\n",
    "        top_actors = []\n",
    "    else:\n",
    "        top_actors = data_credits[\"cast\"][0:2]\n",
    "    actors_keys_to_remove = [\n",
    "        \"adult\",\n",
    "        \"known_for_department\",\n",
    "        \"original_name\",\n",
    "        \"cast_id\",\n",
    "        \"credit_id\",\n",
    "        \"order\",\n",
    "        \"profile_path\",\n",
    "    ]\n",
    "\n",
    "    for t in top_actors:\n",
    "        for k in actors_keys_to_remove:\n",
    "            if k in t:\n",
    "                t.pop(k)\n",
    "\n",
    "    data[\"actors\"] = top_actors\n",
    "\n",
    "    embeddings = model.encode(data[\"overview\"] if len(data[\"overview\"]) > 0 else data[\"title\"])\n",
    "    data[\"overview_embedding\"] = embeddings.tolist()\n",
    "    data[\"director\"] = get_director(id)\n",
    "    return data\n",
    "\n",
    "import tqdm\n",
    "def sample(ids, file_path):\n",
    "    films = {}\n",
    "    for id in tqdm.tqdm(ids):\n",
    "        try:\n",
    "            films[id] = get_film(id)\n",
    "        except:\n",
    "            print(f\"Error with {id}\")\n",
    "    with open(file_path, \"w\") as outfile:\n",
    "        json.dump(films, outfile)"
   ]
  },
  {
   "cell_type": "code",
   "execution_count": 2,
   "metadata": {},
   "outputs": [
    {
     "name": "stderr",
     "output_type": "stream",
     "text": [
      "100%|██████████| 8/8 [00:02<00:00,  3.98it/s]\n"
     ]
    }
   ],
   "source": [
    "# movies for 1 shot prompts\n",
    "sample([269149, 953, 116977,157336, 313369, 216015, 245891, 155], './sample_prompt_1.json')"
   ]
  }
 ],
 "metadata": {
  "kernelspec": {
   "display_name": "MPR",
   "language": "python",
   "name": "python3"
  },
  "language_info": {
   "codemirror_mode": {
    "name": "ipython",
    "version": 3
   },
   "file_extension": ".py",
   "mimetype": "text/x-python",
   "name": "python",
   "nbconvert_exporter": "python",
   "pygments_lexer": "ipython3",
   "version": "3.9.0"
  },
  "orig_nbformat": 4
 },
 "nbformat": 4,
 "nbformat_minor": 2
}
