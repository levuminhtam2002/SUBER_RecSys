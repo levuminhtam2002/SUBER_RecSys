{
 "cells": [
  {
   "cell_type": "code",
   "execution_count": 1,
   "metadata": {},
   "outputs": [],
   "source": [
    "# Source: https://www.kaggle.com/datasets/mohamedbakhet/amazon-books-reviews"
   ]
  },
  {
   "cell_type": "code",
   "execution_count": 2,
   "metadata": {},
   "outputs": [],
   "source": [
    "import pandas as pd\n",
    "import numpy as np\n",
    "\n",
    "books = pd.read_csv(\"./raw_books_data.csv\")"
   ]
  },
  {
   "cell_type": "code",
   "execution_count": 3,
   "metadata": {},
   "outputs": [
    {
     "data": {
      "text/plain": [
       "Index(['Title', 'description', 'authors', 'image', 'previewLink', 'publisher',\n",
       "       'publishedDate', 'infoLink', 'categories', 'ratingsCount'],\n",
       "      dtype='object')"
      ]
     },
     "execution_count": 3,
     "metadata": {},
     "output_type": "execute_result"
    }
   ],
   "source": [
    "books.columns"
   ]
  },
  {
   "cell_type": "code",
   "execution_count": 4,
   "metadata": {},
   "outputs": [],
   "source": [
    "filtered_book = books\n",
    "filtered_book = filtered_book[~filtered_book[\"categories\"].isna()]\n",
    "filtered_book = filtered_book[~filtered_book[\"description\"].isna()]\n",
    "filtered_book = filtered_book[~filtered_book[\"Title\"].isna()]\n",
    "filtered_book = filtered_book[~filtered_book[\"publishedDate\"].isna()]"
   ]
  },
  {
   "cell_type": "code",
   "execution_count": 5,
   "metadata": {},
   "outputs": [],
   "source": [
    "filtered_book[\"categories_list\"] = filtered_book[\"categories\"].apply(\n",
    "    lambda x: eval(x) if type(x) == str else []\n",
    ")\n",
    "\n",
    "filtered_book[\"categories_list\"] = (\n",
    "    filtered_book[\"categories_list\"]\n",
    "    .apply(lambda x: [c.split(\"&\") for c in x])\n",
    "    .apply(lambda x: np.concatenate(x))\n",
    "    .apply(lambda x: [c.split(\", \") for c in x])\n",
    "    .apply(lambda x: np.concatenate(x).tolist())\n",
    "    .apply(lambda x: [c.strip() for c in x])\n",
    ")"
   ]
  },
  {
   "cell_type": "code",
   "execution_count": 6,
   "metadata": {},
   "outputs": [],
   "source": [
    "flattened_values = [item for sublist in filtered_book['categories_list'] for item in sublist]\n",
    "\n",
    "# Convert the flattened values to a Series and get the value counts (distribution)\n",
    "distribution = pd.Series(flattened_values).value_counts()\n",
    "\n",
    "# Display the distribution of unique values\n",
    "categories_df = distribution[distribution > 100] #.to_csv('categories.csv')"
   ]
  },
  {
   "cell_type": "code",
   "execution_count": 7,
   "metadata": {},
   "outputs": [],
   "source": [
    "categories = categories_df.index.to_list()"
   ]
  },
  {
   "cell_type": "code",
   "execution_count": 8,
   "metadata": {},
   "outputs": [],
   "source": [
    "filtered_book = filtered_book[filtered_book[\"categories_list\"].apply(lambda x: np.array([c in categories for c in x]).any())]\n",
    "filtered_book = filtered_book.drop(columns=['previewLink', 'image', 'categories', 'infoLink', 'ratingsCount'])"
   ]
  },
  {
   "cell_type": "code",
   "execution_count": 9,
   "metadata": {},
   "outputs": [],
   "source": [
    "filtered_book[\"book_id\"] = filtered_book.index"
   ]
  },
  {
   "cell_type": "code",
   "execution_count": 10,
   "metadata": {},
   "outputs": [],
   "source": [
    "ratings = pd.read_csv(\"./raw_books_rating.csv\")\n"
   ]
  },
  {
   "cell_type": "code",
   "execution_count": 11,
   "metadata": {},
   "outputs": [
    {
     "data": {
      "text/plain": [
       "3000000"
      ]
     },
     "execution_count": 11,
     "metadata": {},
     "output_type": "execute_result"
    }
   ],
   "source": [
    "len(ratings)"
   ]
  },
  {
   "cell_type": "code",
   "execution_count": 12,
   "metadata": {},
   "outputs": [
    {
     "data": {
      "text/plain": [
       "Index(['Id', 'Title', 'Price', 'User_id', 'profileName', 'review/helpfulness',\n",
       "       'review/score', 'review/time', 'review/summary', 'review/text'],\n",
       "      dtype='object')"
      ]
     },
     "execution_count": 12,
     "metadata": {},
     "output_type": "execute_result"
    }
   ],
   "source": [
    "ratings.columns"
   ]
  },
  {
   "cell_type": "code",
   "execution_count": 13,
   "metadata": {},
   "outputs": [],
   "source": [
    "ratings_filtered = ratings[[\"Id\", \"Title\", \"User_id\", \"review/score\"]]\n",
    "ratings_filtered = ratings_filtered[~ratings_filtered[\"User_id\"].isna()]"
   ]
  },
  {
   "cell_type": "code",
   "execution_count": 14,
   "metadata": {},
   "outputs": [
    {
     "data": {
      "text/plain": [
       "124440"
      ]
     },
     "execution_count": 14,
     "metadata": {},
     "output_type": "execute_result"
    }
   ],
   "source": [
    "filtered_book[\"Title\"].unique().__len__()"
   ]
  },
  {
   "cell_type": "code",
   "execution_count": 15,
   "metadata": {},
   "outputs": [],
   "source": [
    "merged_data = ratings_filtered.merge(filtered_book, on=\"Title\")\n",
    "merged_data['count'] = merged_data.groupby('Title')['Title'].transform('count')\n",
    "merged_data['vote_average'] = merged_data.groupby('Title')['review/score'].transform('mean')\n",
    "merged_data.drop(columns=[\"Id\"], inplace=True)\n",
    "merged_data.rename(columns={'Title': 'title', \"User_id\": \"user_id\", \"publishedDate\": \"published_year\", \"review/score\": \"rating\", \"categories_list\": \"categories\"}, inplace=True)\n",
    "merged_data[\"published_year\"] = merged_data[\"published_year\"].apply(lambda x: x.split(\"-\")[0])\n",
    "merged_data = merged_data[merged_data[\"count\"] >= 5]"
   ]
  },
  {
   "cell_type": "code",
   "execution_count": 18,
   "metadata": {},
   "outputs": [
    {
     "name": "stderr",
     "output_type": "stream",
     "text": [
      "/tmp/ipykernel_116744/1466325062.py:2: SettingWithCopyWarning: \n",
      "A value is trying to be set on a copy of a slice from a DataFrame\n",
      "\n",
      "See the caveats in the documentation: https://pandas.pydata.org/pandas-docs/stable/user_guide/indexing.html#returning-a-view-versus-a-copy\n",
      "  post_processed_books.drop_duplicates(subset=['book_id'], inplace=True)\n"
     ]
    }
   ],
   "source": [
    "post_processed_books = merged_data[[\"title\", \"description\", \"authors\", \"publisher\", \"published_year\", \"categories\", \"book_id\", \"count\", \"vote_average\"]]\n",
    "post_processed_books.drop_duplicates(subset=['book_id'], inplace=True)"
   ]
  },
  {
   "cell_type": "code",
   "execution_count": 19,
   "metadata": {},
   "outputs": [],
   "source": [
    "post_processsed_ratings = merged_data[[\"user_id\", \"book_id\", \"rating\"]]"
   ]
  },
  {
   "cell_type": "code",
   "execution_count": 20,
   "metadata": {},
   "outputs": [
    {
     "data": {
      "text/html": [
       "<div>\n",
       "<style scoped>\n",
       "    .dataframe tbody tr th:only-of-type {\n",
       "        vertical-align: middle;\n",
       "    }\n",
       "\n",
       "    .dataframe tbody tr th {\n",
       "        vertical-align: top;\n",
       "    }\n",
       "\n",
       "    .dataframe thead th {\n",
       "        text-align: right;\n",
       "    }\n",
       "</style>\n",
       "<table border=\"1\" class=\"dataframe\">\n",
       "  <thead>\n",
       "    <tr style=\"text-align: right;\">\n",
       "      <th></th>\n",
       "      <th>title</th>\n",
       "      <th>description</th>\n",
       "      <th>authors</th>\n",
       "      <th>publisher</th>\n",
       "      <th>published_year</th>\n",
       "      <th>categories</th>\n",
       "      <th>book_id</th>\n",
       "      <th>count</th>\n",
       "      <th>vote_average</th>\n",
       "    </tr>\n",
       "  </thead>\n",
       "  <tbody>\n",
       "    <tr>\n",
       "      <th>0</th>\n",
       "      <td>Dr. Seuss: American Icon</td>\n",
       "      <td>Philip Nel takes a fascinating look into the k...</td>\n",
       "      <td>['Philip Nel']</td>\n",
       "      <td>A&amp;C Black</td>\n",
       "      <td>2005</td>\n",
       "      <td>[Biography, Autobiography]</td>\n",
       "      <td>1</td>\n",
       "      <td>9</td>\n",
       "      <td>4.555556</td>\n",
       "    </tr>\n",
       "    <tr>\n",
       "      <th>13</th>\n",
       "      <td>Whispers of the Wicked Saints</td>\n",
       "      <td>Julia Thomas finds her life spinning out of co...</td>\n",
       "      <td>['Veronica Haddon']</td>\n",
       "      <td>iUniverse</td>\n",
       "      <td>2005</td>\n",
       "      <td>[Fiction]</td>\n",
       "      <td>3</td>\n",
       "      <td>32</td>\n",
       "      <td>3.718750</td>\n",
       "    </tr>\n",
       "    <tr>\n",
       "      <th>53</th>\n",
       "      <td>Dramatica for Screenwriters</td>\n",
       "      <td>Dramatica for Screenwriters by Armando Saldana...</td>\n",
       "      <td>['Armando Salda A-Mora']</td>\n",
       "      <td>NaN</td>\n",
       "      <td>2005</td>\n",
       "      <td>[Reference]</td>\n",
       "      <td>11</td>\n",
       "      <td>10</td>\n",
       "      <td>4.700000</td>\n",
       "    </tr>\n",
       "    <tr>\n",
       "      <th>68</th>\n",
       "      <td>The Ultimate Guide to Law School Admission: In...</td>\n",
       "      <td>This collection brings together a distinguishe...</td>\n",
       "      <td>['Fiona Cownie']</td>\n",
       "      <td>Bloomsbury Publishing</td>\n",
       "      <td>2010</td>\n",
       "      <td>[Law]</td>\n",
       "      <td>16</td>\n",
       "      <td>6</td>\n",
       "      <td>3.333333</td>\n",
       "    </tr>\n",
       "    <tr>\n",
       "      <th>77</th>\n",
       "      <td>Alaska Sourdough</td>\n",
       "      <td>\"Sourdough is a magical food\", as author Ruth ...</td>\n",
       "      <td>['Ruth Allman']</td>\n",
       "      <td>Alaska Northwest Books</td>\n",
       "      <td>1976</td>\n",
       "      <td>[Cooking]</td>\n",
       "      <td>19</td>\n",
       "      <td>25</td>\n",
       "      <td>4.280000</td>\n",
       "    </tr>\n",
       "  </tbody>\n",
       "</table>\n",
       "</div>"
      ],
      "text/plain": [
       "                                                title   \n",
       "0                            Dr. Seuss: American Icon  \\\n",
       "13                      Whispers of the Wicked Saints   \n",
       "53                        Dramatica for Screenwriters   \n",
       "68  The Ultimate Guide to Law School Admission: In...   \n",
       "77                                   Alaska Sourdough   \n",
       "\n",
       "                                          description   \n",
       "0   Philip Nel takes a fascinating look into the k...  \\\n",
       "13  Julia Thomas finds her life spinning out of co...   \n",
       "53  Dramatica for Screenwriters by Armando Saldana...   \n",
       "68  This collection brings together a distinguishe...   \n",
       "77  \"Sourdough is a magical food\", as author Ruth ...   \n",
       "\n",
       "                     authors               publisher published_year   \n",
       "0             ['Philip Nel']               A&C Black           2005  \\\n",
       "13       ['Veronica Haddon']               iUniverse           2005   \n",
       "53  ['Armando Salda A-Mora']                     NaN           2005   \n",
       "68          ['Fiona Cownie']   Bloomsbury Publishing           2010   \n",
       "77           ['Ruth Allman']  Alaska Northwest Books           1976   \n",
       "\n",
       "                    categories  book_id  count  vote_average  \n",
       "0   [Biography, Autobiography]        1      9        4.555556  \n",
       "13                   [Fiction]        3     32        3.718750  \n",
       "53                 [Reference]       11     10        4.700000  \n",
       "68                       [Law]       16      6        3.333333  \n",
       "77                   [Cooking]       19     25        4.280000  "
      ]
     },
     "execution_count": 20,
     "metadata": {},
     "output_type": "execute_result"
    }
   ],
   "source": [
    "post_processed_books.head()"
   ]
  },
  {
   "cell_type": "code",
   "execution_count": 21,
   "metadata": {},
   "outputs": [
    {
     "data": {
      "text/html": [
       "<div>\n",
       "<style scoped>\n",
       "    .dataframe tbody tr th:only-of-type {\n",
       "        vertical-align: middle;\n",
       "    }\n",
       "\n",
       "    .dataframe tbody tr th {\n",
       "        vertical-align: top;\n",
       "    }\n",
       "\n",
       "    .dataframe thead th {\n",
       "        text-align: right;\n",
       "    }\n",
       "</style>\n",
       "<table border=\"1\" class=\"dataframe\">\n",
       "  <thead>\n",
       "    <tr style=\"text-align: right;\">\n",
       "      <th></th>\n",
       "      <th>user_id</th>\n",
       "      <th>book_id</th>\n",
       "      <th>rating</th>\n",
       "    </tr>\n",
       "  </thead>\n",
       "  <tbody>\n",
       "    <tr>\n",
       "      <th>0</th>\n",
       "      <td>A30TK6U7DNS82R</td>\n",
       "      <td>1</td>\n",
       "      <td>5.0</td>\n",
       "    </tr>\n",
       "    <tr>\n",
       "      <th>1</th>\n",
       "      <td>A3UH4UZ4RSVO82</td>\n",
       "      <td>1</td>\n",
       "      <td>5.0</td>\n",
       "    </tr>\n",
       "    <tr>\n",
       "      <th>2</th>\n",
       "      <td>A2MVUWT453QH61</td>\n",
       "      <td>1</td>\n",
       "      <td>4.0</td>\n",
       "    </tr>\n",
       "    <tr>\n",
       "      <th>3</th>\n",
       "      <td>A22X4XUPKF66MR</td>\n",
       "      <td>1</td>\n",
       "      <td>4.0</td>\n",
       "    </tr>\n",
       "    <tr>\n",
       "      <th>4</th>\n",
       "      <td>A2F6NONFUDB6UK</td>\n",
       "      <td>1</td>\n",
       "      <td>4.0</td>\n",
       "    </tr>\n",
       "  </tbody>\n",
       "</table>\n",
       "</div>"
      ],
      "text/plain": [
       "          user_id  book_id  rating\n",
       "0  A30TK6U7DNS82R        1     5.0\n",
       "1  A3UH4UZ4RSVO82        1     5.0\n",
       "2  A2MVUWT453QH61        1     4.0\n",
       "3  A22X4XUPKF66MR        1     4.0\n",
       "4  A2F6NONFUDB6UK        1     4.0"
      ]
     },
     "execution_count": 21,
     "metadata": {},
     "output_type": "execute_result"
    }
   ],
   "source": [
    "post_processsed_ratings.head()"
   ]
  },
  {
   "cell_type": "code",
   "execution_count": 22,
   "metadata": {},
   "outputs": [
    {
     "data": {
      "text/html": [
       "<div>\n",
       "<style scoped>\n",
       "    .dataframe tbody tr th:only-of-type {\n",
       "        vertical-align: middle;\n",
       "    }\n",
       "\n",
       "    .dataframe tbody tr th {\n",
       "        vertical-align: top;\n",
       "    }\n",
       "\n",
       "    .dataframe thead th {\n",
       "        text-align: right;\n",
       "    }\n",
       "</style>\n",
       "<table border=\"1\" class=\"dataframe\">\n",
       "  <thead>\n",
       "    <tr style=\"text-align: right;\">\n",
       "      <th></th>\n",
       "      <th>book_id</th>\n",
       "      <th>rating</th>\n",
       "    </tr>\n",
       "  </thead>\n",
       "  <tbody>\n",
       "    <tr>\n",
       "      <th>count</th>\n",
       "      <td>1.513047e+06</td>\n",
       "      <td>1.513047e+06</td>\n",
       "    </tr>\n",
       "    <tr>\n",
       "      <th>mean</th>\n",
       "      <td>9.318937e+04</td>\n",
       "      <td>4.218488e+00</td>\n",
       "    </tr>\n",
       "    <tr>\n",
       "      <th>std</th>\n",
       "      <td>6.225811e+04</td>\n",
       "      <td>1.188469e+00</td>\n",
       "    </tr>\n",
       "    <tr>\n",
       "      <th>min</th>\n",
       "      <td>1.000000e+00</td>\n",
       "      <td>1.000000e+00</td>\n",
       "    </tr>\n",
       "    <tr>\n",
       "      <th>25%</th>\n",
       "      <td>3.411900e+04</td>\n",
       "      <td>4.000000e+00</td>\n",
       "    </tr>\n",
       "    <tr>\n",
       "      <th>50%</th>\n",
       "      <td>9.059600e+04</td>\n",
       "      <td>5.000000e+00</td>\n",
       "    </tr>\n",
       "    <tr>\n",
       "      <th>75%</th>\n",
       "      <td>1.470680e+05</td>\n",
       "      <td>5.000000e+00</td>\n",
       "    </tr>\n",
       "    <tr>\n",
       "      <th>max</th>\n",
       "      <td>2.123990e+05</td>\n",
       "      <td>5.000000e+00</td>\n",
       "    </tr>\n",
       "  </tbody>\n",
       "</table>\n",
       "</div>"
      ],
      "text/plain": [
       "            book_id        rating\n",
       "count  1.513047e+06  1.513047e+06\n",
       "mean   9.318937e+04  4.218488e+00\n",
       "std    6.225811e+04  1.188469e+00\n",
       "min    1.000000e+00  1.000000e+00\n",
       "25%    3.411900e+04  4.000000e+00\n",
       "50%    9.059600e+04  5.000000e+00\n",
       "75%    1.470680e+05  5.000000e+00\n",
       "max    2.123990e+05  5.000000e+00"
      ]
     },
     "execution_count": 22,
     "metadata": {},
     "output_type": "execute_result"
    }
   ],
   "source": [
    "post_processsed_ratings.describe()"
   ]
  },
  {
   "cell_type": "code",
   "execution_count": 23,
   "metadata": {},
   "outputs": [],
   "source": [
    "post_processed_books.to_csv('postprocessed_books.csv', index=False)\n",
    "post_processsed_ratings.to_csv('postprocessed_ratings.csv', index=False)"
   ]
  }
 ],
 "metadata": {
  "kernelspec": {
   "display_name": "MPR",
   "language": "python",
   "name": "python3"
  },
  "language_info": {
   "codemirror_mode": {
    "name": "ipython",
    "version": 3
   },
   "file_extension": ".py",
   "mimetype": "text/x-python",
   "name": "python",
   "nbconvert_exporter": "python",
   "pygments_lexer": "ipython3",
   "version": "3.9.0"
  },
  "orig_nbformat": 4
 },
 "nbformat": 4,
 "nbformat_minor": 2
}
