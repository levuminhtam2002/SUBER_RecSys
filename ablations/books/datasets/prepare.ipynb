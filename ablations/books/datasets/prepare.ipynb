{
 "cells": [
  {
   "cell_type": "code",
   "execution_count": 1,
   "metadata": {},
   "outputs": [],
   "source": [
    "import pandas as pd\n",
    "\n",
    "df = pd.read_csv('./table_collection.csv')\n",
    "df[\"book_id\"] = df.index\n",
    "df[\"authors\"] = df[\"authors\"].apply(lambda x: str([x]))\n",
    "df[\"categories\"] = df[\"categories\"].apply(lambda x: str(x.split(\", \")))\n",
    "df[\"publisher\"] = \"\""
   ]
  },
  {
   "cell_type": "code",
   "execution_count": 22,
   "metadata": {},
   "outputs": [
    {
     "name": "stderr",
     "output_type": "stream",
     "text": [
      "/home/gio/anaconda3/envs/MPR/lib/python3.9/site-packages/tqdm/auto.py:21: TqdmWarning: IProgress not found. Please update jupyter and ipywidgets. See https://ipywidgets.readthedocs.io/en/stable/user_install.html\n",
      "  from .autonotebook import tqdm as notebook_tqdm\n"
     ]
    }
   ],
   "source": [
    "import tqdm\n",
    "from sentence_transformers import SentenceTransformer\n",
    "model = SentenceTransformer('sentence-transformers/sentence-t5-base')"
   ]
  },
  {
   "cell_type": "code",
   "execution_count": 23,
   "metadata": {},
   "outputs": [],
   "source": [
    "df['description_embedding'] = df.apply(lambda row:  model.encode(row['description'] if len(row[\"description\"]) > 0 else row[\"title\"]).tolist(), axis=1)"
   ]
  },
  {
   "cell_type": "code",
   "execution_count": 24,
   "metadata": {},
   "outputs": [
    {
     "data": {
      "text/html": [
       "<div>\n",
       "<style scoped>\n",
       "    .dataframe tbody tr th:only-of-type {\n",
       "        vertical-align: middle;\n",
       "    }\n",
       "\n",
       "    .dataframe tbody tr th {\n",
       "        vertical-align: top;\n",
       "    }\n",
       "\n",
       "    .dataframe thead th {\n",
       "        text-align: right;\n",
       "    }\n",
       "</style>\n",
       "<table border=\"1\" class=\"dataframe\">\n",
       "  <thead>\n",
       "    <tr style=\"text-align: right;\">\n",
       "      <th></th>\n",
       "      <th>collection_id</th>\n",
       "      <th>title</th>\n",
       "      <th>authors</th>\n",
       "      <th>published_year</th>\n",
       "      <th>description</th>\n",
       "      <th>categories</th>\n",
       "      <th>vote_average</th>\n",
       "      <th>book_id</th>\n",
       "      <th>publisher</th>\n",
       "      <th>description_embedding</th>\n",
       "    </tr>\n",
       "  </thead>\n",
       "  <tbody>\n",
       "    <tr>\n",
       "      <th>0</th>\n",
       "      <td>1</td>\n",
       "      <td>Harry Potter and the Philosopher’s Stone</td>\n",
       "      <td>['J.K. Rowling']</td>\n",
       "      <td>1997</td>\n",
       "      <td>Harry Potter thinks he is an ordinary boy - un...</td>\n",
       "      <td>['Fiction', 'Young Adult', 'Magic', 'Classic']</td>\n",
       "      <td>4.47</td>\n",
       "      <td>0</td>\n",
       "      <td></td>\n",
       "      <td>[0.004091167356818914, -0.037904106080532074, ...</td>\n",
       "    </tr>\n",
       "  </tbody>\n",
       "</table>\n",
       "</div>"
      ],
      "text/plain": [
       "   collection_id                                     title           authors   \n",
       "0              1  Harry Potter and the Philosopher’s Stone  ['J.K. Rowling']  \\\n",
       "\n",
       "   published_year                                        description   \n",
       "0            1997  Harry Potter thinks he is an ordinary boy - un...  \\\n",
       "\n",
       "                                       categories  vote_average  book_id   \n",
       "0  ['Fiction', 'Young Adult', 'Magic', 'Classic']          4.47        0  \\\n",
       "\n",
       "  publisher                              description_embedding  \n",
       "0            [0.004091167356818914, -0.037904106080532074, ...  "
      ]
     },
     "execution_count": 24,
     "metadata": {},
     "output_type": "execute_result"
    }
   ],
   "source": [
    "df.head(1)"
   ]
  },
  {
   "cell_type": "code",
   "execution_count": 25,
   "metadata": {},
   "outputs": [],
   "source": [
    "df.to_csv('./books_collection.csv', index=False)"
   ]
  },
  {
   "cell_type": "code",
   "execution_count": 26,
   "metadata": {},
   "outputs": [],
   "source": [
    "collection_id = [v for k,v in (df.groupby(\"collection_id\")[\"book_id\"].apply(list).to_dict().items())]\n",
    "\n",
    "import json\n",
    "with open(\"collection_ids.json\", \"w\") as f:\n",
    "    json.dump(collection_id, f)"
   ]
  }
 ],
 "metadata": {
  "kernelspec": {
   "display_name": "MPR",
   "language": "python",
   "name": "python3"
  },
  "language_info": {
   "codemirror_mode": {
    "name": "ipython",
    "version": 3
   },
   "file_extension": ".py",
   "mimetype": "text/x-python",
   "name": "python",
   "nbconvert_exporter": "python",
   "pygments_lexer": "ipython3",
   "version": "3.9.0"
  },
  "orig_nbformat": 4
 },
 "nbformat": 4,
 "nbformat_minor": 2
}
