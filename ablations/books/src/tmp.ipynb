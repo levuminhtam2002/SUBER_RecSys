{
 "cells": [
  {
   "cell_type": "code",
   "execution_count": 1,
   "metadata": {},
   "outputs": [],
   "source": [
    "import pandas as pd\n",
    "import numpy as np\n",
    "import os\n",
    "books_ratings = pd.read_csv(\n",
    "    os.path.join(\n",
    "        # os.path.dirname(os.path.realpath(__file__)),\n",
    "        \"../../../environment/books/datasets/books_amazon/postprocessed_ratings.csv\",\n",
    "    )\n",
    ")\n",
    "\n",
    "# Global total variation\n",
    "\n"
   ]
  },
  {
   "cell_type": "code",
   "execution_count": 16,
   "metadata": {},
   "outputs": [],
   "source": [
    "groups = books_ratings.groupby(\"book_id\")\n",
    "unique_books = books_ratings[\"book_id\"].unique()"
   ]
  },
  {
   "cell_type": "code",
   "execution_count": 17,
   "metadata": {},
   "outputs": [
    {
     "name": "stderr",
     "output_type": "stream",
     "text": [
      "100%|██████████| 1000000/1000000 [02:04<00:00, 8034.39it/s]\n"
     ]
    }
   ],
   "source": [
    "acc = []\n",
    "import tqdm\n",
    "for _ in tqdm.tqdm(range(1000000)):\n",
    "    book_id = np.random.choice(unique_books)\n",
    "    tmp = groups.get_group(book_id).sample(1)\n",
    "    acc.append(tmp[\"rating\"].values[0])\n"
   ]
  },
  {
   "cell_type": "code",
   "execution_count": 18,
   "metadata": {},
   "outputs": [
    {
     "data": {
      "text/plain": [
       "array([0.0635129 , 0.05072347, 0.08760534, 0.20007971, 0.59807858])"
      ]
     },
     "execution_count": 18,
     "metadata": {},
     "output_type": "execute_result"
    }
   ],
   "source": [
    "probs_amazon = np.array(\n",
    "    [\n",
    "        len(books_ratings[\"rating\"][books_ratings[\"rating\"] == x])\n",
    "        / len(books_ratings[\"rating\"])\n",
    "        for x in range(1, 6)\n",
    "    ]\n",
    ")\n",
    "probs_amazon\n"
   ]
  },
  {
   "cell_type": "code",
   "execution_count": 21,
   "metadata": {},
   "outputs": [],
   "source": [
    "acc = np.array(acc)"
   ]
  },
  {
   "cell_type": "code",
   "execution_count": 22,
   "metadata": {},
   "outputs": [
    {
     "data": {
      "text/plain": [
       "array([0.060795, 0.05041 , 0.087622, 0.201397, 0.599776])"
      ]
     },
     "execution_count": 22,
     "metadata": {},
     "output_type": "execute_result"
    }
   ],
   "source": [
    "probs_amazon = np.array(\n",
    "    [\n",
    "        len(acc[acc == x])\n",
    "        / len(acc)\n",
    "        for x in range(1, 6)\n",
    "    ]\n",
    ")\n",
    "probs_amazon"
   ]
  },
  {
   "cell_type": "code",
   "execution_count": 51,
   "metadata": {},
   "outputs": [
    {
     "name": "stderr",
     "output_type": "stream",
     "text": [
      "100%|██████████| 47307/47307 [00:24<00:00, 1939.83it/s]"
     ]
    },
    {
     "name": "stdout",
     "output_type": "stream",
     "text": [
      "[0.060696858751543716, 0.05035948745800414, 0.08755560918663792, 0.20177244237181696, 0.599615602231992]\n"
     ]
    },
    {
     "name": "stderr",
     "output_type": "stream",
     "text": [
      "\n"
     ]
    }
   ],
   "source": [
    "p = [0.0, 0.0, 0.0, 0.0, 0.0]\n",
    "\n",
    "num_books = len(books_ratings[\"book_id\"].unique())\n",
    "for name, group in tqdm.tqdm(books_ratings.groupby(\"book_id\")):\n",
    "    num_users = len(group)\n",
    "    for rating in range(1, 6):\n",
    "        p[rating - 1] += len(group[group[\"rating\"] == rating]) / (num_books*num_users)\n",
    "\n",
    "print(p)"
   ]
  },
  {
   "cell_type": "code",
   "execution_count": null,
   "metadata": {},
   "outputs": [],
   "source": [
    "for _ in tqdm.tqdm(range(1000000)):\n",
    "    book_id = np.random.choice(unique_books)\n",
    "    tmp = groups.get_group(book_id)\n",
    "    tmp.hist(\"rating\", bins=5, range=(0.5, 5.5), align=\"left\")"
   ]
  }
 ],
 "metadata": {
  "kernelspec": {
   "display_name": "MPR",
   "language": "python",
   "name": "python3"
  },
  "language_info": {
   "codemirror_mode": {
    "name": "ipython",
    "version": 3
   },
   "file_extension": ".py",
   "mimetype": "text/x-python",
   "name": "python",
   "nbconvert_exporter": "python",
   "pygments_lexer": "ipython3",
   "version": "3.9.0"
  },
  "orig_nbformat": 4
 },
 "nbformat": 4,
 "nbformat_minor": 2
}
