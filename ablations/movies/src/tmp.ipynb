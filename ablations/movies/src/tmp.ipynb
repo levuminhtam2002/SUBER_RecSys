{
 "cells": [
  {
   "cell_type": "code",
   "execution_count": 30,
   "metadata": {},
   "outputs": [],
   "source": [
    "import pandas as pd\n",
    "import numpy as np\n",
    "import tqdm\n",
    "import os\n",
    "movies_ratings = pd.read_csv(\n",
    "    os.path.join(\n",
    "        \"../../../environment/movies/datasets/ml-latest-small/ratings.csv\",\n",
    "    )\n",
    ")\n"
   ]
  },
  {
   "cell_type": "code",
   "execution_count": 31,
   "metadata": {},
   "outputs": [],
   "source": [
    "movies_ratings[\"rating\"] *=2"
   ]
  },
  {
   "cell_type": "code",
   "execution_count": 32,
   "metadata": {},
   "outputs": [],
   "source": [
    "groups = movies_ratings.groupby(\"movieId\")\n",
    "unique_books = movies_ratings[\"movieId\"].unique()"
   ]
  },
  {
   "cell_type": "code",
   "execution_count": 33,
   "metadata": {},
   "outputs": [
    {
     "data": {
      "text/plain": [
       "array([0.01358642, 0.02787695, 0.01776151, 0.07488397, 0.05503987,\n",
       "       0.19880797, 0.13027093, 0.2659566 , 0.08480106, 0.13101472])"
      ]
     },
     "execution_count": 33,
     "metadata": {},
     "output_type": "execute_result"
    }
   ],
   "source": [
    "probs = np.array(\n",
    "    [\n",
    "        len(movies_ratings[\"rating\"][movies_ratings[\"rating\"] == x])\n",
    "        / len(movies_ratings[\"rating\"])\n",
    "        for x in range(1, 11)\n",
    "    ]\n",
    ")\n",
    "probs\n"
   ]
  },
  {
   "cell_type": "code",
   "execution_count": 34,
   "metadata": {},
   "outputs": [
    {
     "name": "stderr",
     "output_type": "stream",
     "text": [
      "  1%|          | 106/9724 [00:00<00:09, 1058.23it/s]"
     ]
    },
    {
     "name": "stderr",
     "output_type": "stream",
     "text": [
      "100%|██████████| 9724/9724 [00:09<00:00, 1054.12it/s]"
     ]
    },
    {
     "name": "stdout",
     "output_type": "stream",
     "text": [
      "[0.022166718841458488, 0.038346176907715024, 0.034127715161148334, 0.09881372156302684, 0.07641544304527774, 0.19559479666320065, 0.14796326375812152, 0.22659525034875633, 0.07552053618598108, 0.08445637752532151]\n"
     ]
    },
    {
     "name": "stderr",
     "output_type": "stream",
     "text": [
      "\n"
     ]
    }
   ],
   "source": [
    "p = [0.0]*10\n",
    "\n",
    "num_books = len(movies_ratings[\"movieId\"].unique())\n",
    "for name, group in tqdm.tqdm(movies_ratings.groupby(\"movieId\")):\n",
    "    num_users = len(group)\n",
    "    for rating in range(1, 11):\n",
    "        p[rating - 1] += len(group[group[\"rating\"] == rating]) / (num_books*num_users)\n",
    "\n",
    "print(p)"
   ]
  }
 ],
 "metadata": {
  "kernelspec": {
   "display_name": "MPR",
   "language": "python",
   "name": "python3"
  },
  "language_info": {
   "codemirror_mode": {
    "name": "ipython",
    "version": 3
   },
   "file_extension": ".py",
   "mimetype": "text/x-python",
   "name": "python",
   "nbconvert_exporter": "python",
   "pygments_lexer": "ipython3",
   "version": "3.9.0"
  },
  "orig_nbformat": 4
 },
 "nbformat": 4,
 "nbformat_minor": 2
}
