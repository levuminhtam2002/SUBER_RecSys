{
 "cells": [
  {
   "cell_type": "code",
   "execution_count": 1,
   "metadata": {},
   "outputs": [
    {
     "name": "stderr",
     "output_type": "stream",
     "text": [
      "/home/gio/anaconda3/envs/MPR/lib/python3.9/site-packages/tqdm/auto.py:21: TqdmWarning: IProgress not found. Please update jupyter and ipywidgets. See https://ipywidgets.readthedocs.io/en/stable/user_install.html\n",
      "  from .autonotebook import tqdm as notebook_tqdm\n"
     ]
    }
   ],
   "source": [
    "import requests\n",
    "import numpy as np\n",
    "import pandas as pd\n",
    "import json\n",
    "from dotenv import load_dotenv\n",
    "load_dotenv() \n",
    "import os\n",
    "from sentence_transformers import SentenceTransformer\n",
    "\n",
    "model = SentenceTransformer(\"sentence-transformers/sentence-t5-base\")\n",
    "\n",
    "def get_director(id):\n",
    "    headers = {\n",
    "        \"accept\": \"application/json\",\n",
    "        \"Authorization\": \"Bearer \" + os.getenv(\"TMDB_API_KEY\"),\n",
    "    }\n",
    "    url_credits = f\"https://api.themoviedb.org/3/movie/{id}/credits?language=en-US\"\n",
    "    response = requests.get(url_credits, headers=headers)\n",
    "    data_credits = response.json()\n",
    "\n",
    "    for d in data_credits[\"crew\"]:\n",
    "        if d[\"job\"] == \"Director\":\n",
    "            return d[\"name\"]\n",
    "        \n",
    "def get_film(id):\n",
    "    url_movie = f\"https://api.themoviedb.org/3/movie/{id}?language=en-US\"\n",
    "    headers = {\n",
    "        \"accept\": \"application/json\",\n",
    "        \"Authorization\": (\n",
    "            (\"Bearer \"+os.getenv(\"TMDB_API_KEY\"))\n",
    "        ),\n",
    "    }\n",
    "    response = requests.get(url_movie, headers=headers)\n",
    "    data = response.json()\n",
    "    movies_keys_to_remove = [\n",
    "        \"backdrop_path\",\n",
    "        \"belongs_to_collection\",\n",
    "        \"homepage\",\n",
    "        \"poster_path\",\n",
    "        \"production_companies\",\n",
    "        \"production_countries\",\n",
    "        \"spoken_languages\",\n",
    "        \"status\",\n",
    "        \"tagline\",\n",
    "        \"video\",\n",
    "    ]\n",
    "    for k in movies_keys_to_remove:\n",
    "        if k in data:\n",
    "            data.pop(k)\n",
    "\n",
    "    url_credits = f\"https://api.themoviedb.org/3/movie/{id}/credits?language=en-US\"\n",
    "    response = requests.get(url_credits, headers=headers)\n",
    "    data_credits = response.json()\n",
    "    if \"cast\" not in data_credits:\n",
    "        top_actors = []\n",
    "    else:\n",
    "        top_actors = data_credits[\"cast\"][0:2]\n",
    "    actors_keys_to_remove = [\n",
    "        \"adult\",\n",
    "        \"known_for_department\",\n",
    "        \"original_name\",\n",
    "        \"cast_id\",\n",
    "        \"credit_id\",\n",
    "        \"order\",\n",
    "        \"profile_path\",\n",
    "    ]\n",
    "\n",
    "    for t in top_actors:\n",
    "        for k in actors_keys_to_remove:\n",
    "            if k in t:\n",
    "                t.pop(k)\n",
    "\n",
    "    data[\"actors\"] = top_actors\n",
    "\n",
    "    embeddings = model.encode(data[\"overview\"] if len(data[\"overview\"]) > 0 else data[\"title\"])\n",
    "    data[\"overview_embedding\"] = embeddings.tolist()\n",
    "    data[\"director\"] = get_director(id)\n",
    "    return data\n",
    "\n",
    "import tqdm\n",
    "def sample(ids, file_path):\n",
    "    films = {}\n",
    "    for id in tqdm.tqdm(ids):\n",
    "        try:\n",
    "            films[id] = get_film(id)\n",
    "        except:\n",
    "            print(f\"Error with {id}\")\n",
    "    with open(file_path, \"w\") as outfile:\n",
    "        json.dump(films, outfile)"
   ]
  },
  {
   "cell_type": "code",
   "execution_count": 2,
   "metadata": {},
   "outputs": [],
   "source": [
    "action = [955555, 1085544, 926680, 649392, 706904, 991953, 687972, 822110, 687779, \n",
    "          461053, 423988, 443700, 337339, 249070, 370131, 77555, 36668, 435, 5146, 676]\n",
    "animation = [85151, 808, 209511, 273137, 273147, 23154, 45662, 387508, 174121, 116711, \n",
    "             952073, 359549, 1106741, 593994, 618159, 385103, 708352, 704953, 569094, 1134407]\n",
    "family = [1136767, 1136397, 1101118, 1008102, 620705, 681781, 961262, 979296, 756187, 655424,678585,\n",
    "          467181, 432383, 508834, 399268, 385722, 342562, 330715, 14165, 10025]\n",
    "comedy = [128375, 9767, 18154, 108842, 24978, 271490, 141457, 180794, 150709, 365756, 430162,\n",
    "            497515, 505270, 775738, 597856, 693285, 710221, 1137919, 1008102, 1016084]\n",
    "documentary = [1123309, 1123031, 1119679, 817127, 879977, 935543, 620051, 534369, 448711, 233863, 426637,\n",
    "                418293, 390553, 218934, 223221, 456989, 938055, 493324, 220363, 54943]\n",
    "fantasy = [150421, 641415, 559, 9785, 13128, 52634, 253574, 17046, 71315, 137936,\n",
    "           281778, 105001, 336149, 293863, 444135, 595503, 633811, 793100,997776, 455476 ]\n",
    "romance = [1121388, 851830, 976125, 723968, 961520, 657412, 776586, 775326, 525454, 488113, \n",
    "           643274, 590102, 301372,1117755, 351800, 153133, 618176, 10761, 17021,16643 ]\n",
    "horror = [97889, 19085, 71147, 1872, 25579, 49706, 479755, 31541, 86703, 282070, 445218, 446360,\n",
    "          784630, 460378, 660175, 546724, 773982, 552322, 749645, 1079837]"
   ]
  },
  {
   "cell_type": "code",
   "execution_count": 3,
   "metadata": {},
   "outputs": [
    {
     "name": "stderr",
     "output_type": "stream",
     "text": [
      "100%|██████████| 20/20 [00:03<00:00,  5.55it/s]\n",
      "100%|██████████| 20/20 [00:01<00:00, 14.29it/s]\n",
      "100%|██████████| 20/20 [00:01<00:00, 15.71it/s]\n",
      "100%|██████████| 20/20 [00:01<00:00, 10.44it/s]\n",
      "100%|██████████| 20/20 [00:01<00:00, 10.28it/s]\n",
      "100%|██████████| 20/20 [00:01<00:00, 10.33it/s]\n",
      "100%|██████████| 20/20 [00:01<00:00, 10.55it/s]\n",
      "100%|██████████| 20/20 [00:01<00:00, 10.45it/s]\n"
     ]
    }
   ],
   "source": [
    "sample(action, './action.json')\n",
    "sample(animation, './animation.json')\n",
    "sample(family, './family.json')\n",
    "sample(comedy, './comedy.json')\n",
    "sample(documentary, './documentary.json')\n",
    "sample(fantasy, './fantasy.json')\n",
    "sample(romance, './romance.json')\n",
    "sample(horror, './horror.json')\n",
    "\n"
   ]
  },
  {
   "cell_type": "code",
   "execution_count": 3,
   "metadata": {},
   "outputs": [],
   "source": [
    "all = action + animation + family + comedy + documentary + fantasy + romance + horror"
   ]
  },
  {
   "cell_type": "code",
   "execution_count": null,
   "metadata": {},
   "outputs": [],
   "source": [
    "\n",
    "sample(all, './all.json')"
   ]
  },
  {
   "cell_type": "code",
   "execution_count": 4,
   "metadata": {},
   "outputs": [],
   "source": [
    "np.random.seed(42)\n",
    "all_subset_20 = np.random.choice(all, 20, replace=False)\n",
    "all_subset_20 = all_subset_20.tolist()"
   ]
  },
  {
   "cell_type": "code",
   "execution_count": 5,
   "metadata": {},
   "outputs": [
    {
     "name": "stderr",
     "output_type": "stream",
     "text": [
      "100%|██████████| 20/20 [00:05<00:00,  3.51it/s]\n"
     ]
    }
   ],
   "source": [
    "\n",
    "sample(all_subset_20, './all_subset_20.json')"
   ]
  },
  {
   "cell_type": "code",
   "execution_count": 5,
   "metadata": {},
   "outputs": [
    {
     "ename": "",
     "evalue": "",
     "output_type": "error",
     "traceback": [
      "\u001b[1;31mThe Kernel crashed while executing code in the the current cell or a previous cell. Please review the code in the cell(s) to identify a possible cause of the failure. Click <a href='https://aka.ms/vscodeJupyterKernelCrash'>here</a> for more info. View Jupyter <a href='command:jupyter.viewOutput'>log</a> for further details."
     ]
    }
   ],
   "source": [
    "import json \n",
    "import numpy as np\n",
    "with open(\"all.json\") as json_file:\n",
    "    data = json.load(json_file)\n",
    "\n",
    "genres = ['action', 'animation', 'comedy', 'documentary', 'family', 'fantasy', 'horror', 'romance']\n",
    "\n",
    "for genre in genres:\n",
    "    without_genre = []\n",
    "    for m in data:\n",
    "        flag = True\n",
    "        for g in data[m]['genres']:\n",
    "            if g['name'] == genre.capitalize():\n",
    "                flag = False\n",
    "        if flag:\n",
    "            without_genre.append(data[m])\n",
    "\n",
    "    np.random.seed(42)\n",
    "    c = np.random.choice(without_genre, 20, replace=False)\n",
    "\n",
    "    new_data = {}\n",
    "    for m in c:\n",
    "        new_data[m['id']] = m\n",
    "\n",
    "    with open(f\"no_{genre}.json\", 'w') as outfile:\n",
    "        json.dump(new_data, outfile)"
   ]
  }
 ],
 "metadata": {
  "kernelspec": {
   "display_name": "Python 3",
   "language": "python",
   "name": "python3"
  },
  "language_info": {
   "codemirror_mode": {
    "name": "ipython",
    "version": 3
   },
   "file_extension": ".py",
   "mimetype": "text/x-python",
   "name": "python",
   "nbconvert_exporter": "python",
   "pygments_lexer": "ipython3",
   "version": "3.9.0"
  },
  "orig_nbformat": 4
 },
 "nbformat": 4,
 "nbformat_minor": 2
}
