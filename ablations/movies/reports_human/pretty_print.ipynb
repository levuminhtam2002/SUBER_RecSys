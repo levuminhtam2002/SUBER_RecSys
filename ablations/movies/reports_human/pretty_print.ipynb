{
 "cells": [
  {
   "cell_type": "code",
   "execution_count": 7,
   "metadata": {},
   "outputs": [],
   "source": [
    "import pandas as pd"
   ]
  },
  {
   "cell_type": "code",
   "execution_count": 8,
   "metadata": {},
   "outputs": [],
   "source": [
    "import re\n",
    "\n",
    "def process(s):\n",
    "    def func(matchobj):\n",
    "        return str(int(matchobj.group(1)) + 1) + '-' + str(int(matchobj.group(2)) + 1)\n",
    "\n",
    "    n = re.sub(r'([0-9])-([0-9])', func, s)\n",
    "\n",
    "    def func(matchobj):\n",
    "        return f\"scale of {int(matchobj.group(1)) + 1} to {int(matchobj.group(2)) + 1}\"\n",
    "\n",
    "    n = re.sub(r'scale of ([0-9]) to ([0-9])', func, n)\n",
    "\n",
    "    def func(matchobj):\n",
    "        return f\"rating of {int(matchobj.group(1)) + 1}\"\n",
    "\n",
    "    n = re.sub(r'rating of ([0-9])', func, n)\n",
    "\n",
    "    def func(matchobj):\n",
    "        return f\"where {int(matchobj.group(1)) + 1} represents a low rating and {int(matchobj.group(2)) + 1} represents a high rating\"\n",
    "\n",
    "    n = re.sub('where ([0-9]) represents a low rating and ([0-9]) represents a high rating', func, n)\n",
    "\n",
    "\n",
    "    def func(matchobj):\n",
    "        return f\"{int(matchobj.group(1)) + 1}.{int(matchobj.group(2))}\"\n",
    "\n",
    "    n = re.sub(r'([0-9])\\.([0-9])', func, n)\n",
    "\n",
    "    def func(matchobj):\n",
    "        return f\"({int(matchobj.group(1)) + 1})\"\n",
    "\n",
    "    n = re.sub(r'\\(([0-9])\\)', func, n)\n",
    "\n",
    "    n = n.replace(\"</s>\", \"\")\n",
    "    return n"
   ]
  },
  {
   "cell_type": "code",
   "execution_count": 9,
   "metadata": {},
   "outputs": [],
   "source": [
    "folders = [\"gpt-4-0613\", \"TheBloke_Llama-2-13B-chat-GPTQ\", \"TheBloke_Mistral-7B-Instruct-v0.2-GPTQ\", \"TheBloke_vicuna-13B-v1.5-GPTQ\",\n",
    "           \"TheBloke_vicuna-13B-v1.5-GPTQ-random_rating\"]\n",
    "\n",
    "counter = 0\n",
    "for f in folders:\n",
    "    df = pd.read_csv(f\"./{f}/samples_form.csv\")\n",
    "    \n",
    "    result = \"\"\n",
    "    for i in range(0, len(df)):\n",
    "        result += \"Interaction \"+ str(df[\"interaction_id\"].iloc[i]) + \")\\n\"\n",
    "        result += process(df[\"LLM_interaction_HTML\"].iloc[i])\n",
    "        #result += df[\"LLM_interaction_HTML\"].iloc[i]\n",
    "        result += \"\\n\\n\\n\"\n",
    "    with open(f\"{f}/print.txt\", \"w\") as f: \n",
    "        f.write(result)\n"
   ]
  }
 ],
 "metadata": {
  "kernelspec": {
   "display_name": "MPR",
   "language": "python",
   "name": "python3"
  },
  "language_info": {
   "codemirror_mode": {
    "name": "ipython",
    "version": 3
   },
   "file_extension": ".py",
   "mimetype": "text/x-python",
   "name": "python",
   "nbconvert_exporter": "python",
   "pygments_lexer": "ipython3",
   "version": "3.9.0"
  }
 },
 "nbformat": 4,
 "nbformat_minor": 2
}
